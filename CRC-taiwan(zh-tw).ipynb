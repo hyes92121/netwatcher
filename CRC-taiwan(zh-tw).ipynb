{
 "cells": [
  {
   "cell_type": "code",
   "execution_count": 2,
   "metadata": {},
   "outputs": [],
   "source": [
    "import datetime\n",
    "import numpy as np\n",
    "from influxdb import InfluxDBClient"
   ]
  },
  {
   "cell_type": "code",
   "execution_count": 3,
   "metadata": {},
   "outputs": [],
   "source": [
    "client = InfluxDBClient(host='140.112.42.160', port=8086, database='test_2')"
   ]
  },
  {
   "cell_type": "code",
   "execution_count": 4,
   "metadata": {},
   "outputs": [],
   "source": [
    "CODE_TO_COUNTRY = {              # country language code to full language name  \n",
    "        'zh-tw': 'Taiwan',\n",
    "        'ko': 'Korean', \n",
    "        'ja': 'Japan',\n",
    "        'es': 'Spanish',\n",
    "        'fr': 'French',\n",
    "        'ru': 'Russian',\n",
    "        'west-us': 'West US',\n",
    "        'US': 'United States',\n",
    "        'SG': 'Singapore',\n",
    "        'GB': 'Great Britain',\n",
    "        'NL': 'Netherlands',\n",
    "        'HK': 'Hong Kong'\n",
    "    }"
   ]
  },
  {
   "cell_type": "code",
   "execution_count": 5,
   "metadata": {},
   "outputs": [],
   "source": [
    "def build_query(t_s, t_e, channel=None, lang=None, loc=None):\n",
    "    \"\"\"\n",
    "    gets all data from month/date to month/(date+1)\n",
    "    t_s: time start\n",
    "    t_e: time end \n",
    "    lang: stream language\n",
    "    loc: client location \n",
    "    \"\"\"\n",
    "    channel = '/.*/' if channel is None else channel\n",
    "    q = f\"SELECT viewer, client_location, ip_list, fq_count, num_edge FROM {channel} WHERE time >= '{t_s}' AND time < '{t_e}'\"\n",
    "    if lang:\n",
    "        q = f\"{q} AND stream_language = '{lang}'\"\n",
    "    if loc:\n",
    "        q = f\"{q} AND client_location = '{loc}'\"\n",
    "    return q\n",
    "\n",
    "def get_edge_num(result):\n",
    "    tmp = list()\n",
    "    transactions = 0\n",
    "    for (stream, _), points in result.items():\n",
    "        for point in points:\n",
    "            edges = point['ip_list'].split(',')\n",
    "            transactions += sum([int(fq) for fq in point['fq_count'].split(',')])\n",
    "            for edge in edges:\n",
    "                if edge not in tmp:\n",
    "                    tmp.append(edge)\n",
    "    return set(tmp), transactions\n",
    "\n",
    "def mean(l):\n",
    "    return sum(l)/len(l)\n",
    "\n",
    "def TIMEFMT(t):\n",
    "    return datetime.datetime.strptime(t, '%Y-%m-%dT%H:%M:%SZ')"
   ]
  },
  {
   "cell_type": "markdown",
   "metadata": {},
   "source": [
    "#### Calculate gorund truth"
   ]
  },
  {
   "cell_type": "code",
   "execution_count": 8,
   "metadata": {},
   "outputs": [
    {
     "name": "stdout",
     "output_type": "stream",
     "text": [
      "37\n"
     ]
    }
   ],
   "source": [
    "START_T = '2019-11-01T00:00:00Z' # start time\n",
    "END_T = '2019-11-02T00:00:00Z'   # end time\n",
    "q = build_query(START_T, END_T, loc='tw', lang='zh-tw')\n",
    "result = client.query(q)\n",
    "\n",
    "ground_truth, _ = get_edge_num(result) # total # of edge servers\n",
    "print(len(ground_truth))"
   ]
  },
  {
   "cell_type": "code",
   "execution_count": 9,
   "metadata": {},
   "outputs": [
    {
     "name": "stdout",
     "output_type": "stream",
     "text": [
      "22\n"
     ]
    }
   ],
   "source": [
    "START_T = '2019-11-01T10:00:00Z' # start time\n",
    "END_T = '2019-11-01T11:00:00Z'   # end time\n",
    "q = build_query(START_T, END_T, loc='tw', lang='zh-tw')\n",
    "result = client.query(q)\n",
    "\n",
    "M, _ = get_edge_num(result) # number of edge servers in first capture\n",
    "print(len(M))"
   ]
  },
  {
   "cell_type": "code",
   "execution_count": 11,
   "metadata": {},
   "outputs": [
    {
     "name": "stdout",
     "output_type": "stream",
     "text": [
      "20\n"
     ]
    }
   ],
   "source": [
    "START_T = '2019-11-01T20:00:00Z' # start time\n",
    "END_T = '2019-11-01T21:00:00Z'   # end time\n",
    "q = build_query(START_T, END_T, loc='tw', lang='zh-tw')\n",
    "result = client.query(q)\n",
    "\n",
    "C, _ = get_edge_num(result) # number of edge servers in second capture\n",
    "print(len(C))"
   ]
  },
  {
   "cell_type": "markdown",
   "metadata": {},
   "source": [
    "#### Calculate intersection of edge servers between two captures "
   ]
  },
  {
   "cell_type": "code",
   "execution_count": 12,
   "metadata": {},
   "outputs": [
    {
     "name": "stdout",
     "output_type": "stream",
     "text": [
      "13\n"
     ]
    }
   ],
   "source": [
    "R = M.intersection(C)\n",
    "print(len(R))"
   ]
  },
  {
   "cell_type": "markdown",
   "metadata": {},
   "source": [
    "#### Estimate total number of servers by CRC: $N=\\dfrac{MC}{R}$"
   ]
  },
  {
   "cell_type": "code",
   "execution_count": 13,
   "metadata": {},
   "outputs": [
    {
     "name": "stdout",
     "output_type": "stream",
     "text": [
      "33\n"
     ]
    }
   ],
   "source": [
    "N = (len(M)*len(C))//len(R)\n",
    "print(N)"
   ]
  },
  {
   "cell_type": "markdown",
   "metadata": {},
   "source": [
    "#### Input whole week data "
   ]
  },
  {
   "cell_type": "code",
   "execution_count": 14,
   "metadata": {},
   "outputs": [],
   "source": [
    "def get_estimation(date, date_1, t1, t2, loc, lang):\n",
    "    st = f'2019-11-{date}T00:00:00Z' \n",
    "    et = f'2019-11-{date_1}T00:00:00Z'\n",
    "    m_st = f'2019-11-{date}T08:00:00Z'\n",
    "    m_et = f'2019-11-{date}T{t1}Z'\n",
    "    c_st = f'2019-11-{date}T16:00:00Z'\n",
    "    c_et = f'2019-11-{date}T{t2}Z'\n",
    "    \n",
    "    q = build_query(st, et, loc=loc, lang=lang)\n",
    "    result = client.query(q)\n",
    "    gt, gt_t = get_edge_num(result) \n",
    "    \n",
    "    q = build_query(m_st, m_et, loc=loc, lang=lang)\n",
    "    result = client.query(q)\n",
    "    M, M_t = get_edge_num(result) \n",
    "    \n",
    "    q = build_query(c_st, c_et, loc=loc, lang=lang)\n",
    "    result = client.query(q)\n",
    "    C, C_t = get_edge_num(result)\n",
    "    \n",
    "    R = M.intersection(C)\n",
    "    \n",
    "    try:\n",
    "        N = len(M)*len(C)/len(R)\n",
    "    except ZeroDivisionError:\n",
    "        N = 0\n",
    "    \n",
    "    return int(N), len(gt), gt_t, (M_t+C_t)"
   ]
  },
  {
   "cell_type": "code",
   "execution_count": 15,
   "metadata": {},
   "outputs": [],
   "source": [
    "date =   ['01', '02', '03', '04', '05', '06', '07', '08', '09', '10', '11']\n",
    "date_1 = ['02', '03', '04', '05', '06', '07', '08', '09', '10', '11', '12']\n",
    "time_1 = ['08:15:00', '08:30:00', '09:00:00', '10:00:00', '12:00:00', '14:00:00', '16:00:00']\n",
    "time_2 = ['16:15:00', '16:30:00', '17:00:00', '18:00:00', '20:00:00', '22:00:00', '23:59:59']"
   ]
  },
  {
   "cell_type": "code",
   "execution_count": null,
   "metadata": {},
   "outputs": [
    {
     "name": "stdout",
     "output_type": "stream",
     "text": [
      "30 37 716 18157\n",
      "36 37 849 18081\n",
      "33 37 641 15637\n",
      "32 38 635 17637\n",
      "42 38 595 18398\n",
      "43 70 655 16896\n",
      "35 36 717 15602\n",
      "27 36 641 10780\n",
      "39 36 620 12891\n",
      "31 38 598 12968\n",
      "34 37 714 10940\n",
      "9.515537533185109\n",
      "30 37 1398 18157\n",
      "36 37 1787 18081\n",
      "35 37 1301 15637\n",
      "34 38 1346 17637\n",
      "39 38 1226 18398\n",
      "82 70 1437 16896\n",
      "33 36 1378 15602\n",
      "29 36 1237 10780\n",
      "38 36 1209 12891\n",
      "30 38 1289 12968\n",
      "35 37 1362 10940\n",
      "5.60032466591325\n",
      "31 37 2072 18157\n",
      "36 37 2626 18081\n",
      "35 37 1913 15637\n",
      "34 38 2033 17637\n",
      "38 38 1844 18398\n",
      "82 70 2046 16896\n",
      "34 36 2001 15602\n",
      "30 36 1812 10780\n",
      "38 36 1746 12891\n",
      "30 38 1882 12968\n",
      "36 37 1924 10940\n",
      "5.308655025693248\n",
      "38 37 4007 18157\n",
      "36 37 4879 18081\n",
      "35 37 3805 15637\n",
      "36 38 3655 17637\n",
      "36 38 3529 18398\n",
      "79 70 3825 16896\n",
      "34 36 3907 15602\n",
      "33 36 3441 10780\n",
      "38 36 3477 12891\n",
      "31 38 3776 12968\n",
      "36 37 3786 10940\n",
      "3.8376128944009875\n",
      "37 37 6935 18157\n",
      "36 37 7922 18081\n",
      "37 37 6504 15637\n",
      "36 38 6776 17637\n",
      "37 38 6242 18398\n",
      "77 70 5430 16896\n",
      "33 36 6014 15602\n",
      "33 36 4851 10780\n",
      "36 36 5352 12891\n",
      "33 38 5943 12968\n",
      "35 37 4795 10940\n",
      "3.0451153135353137\n",
      "37 37 10720 18157\n",
      "36 37 10371 18081\n",
      "37 37 8807 15637\n",
      "37 38 10015 17637\n",
      "36 38 10376 18398\n",
      "72 70 9083 16896\n",
      "34 36 9426 15602\n",
      "34 36 6923 10780\n",
      "36 36 8459 12891\n",
      "37 38 8157 12968\n",
      "35 37 6446 10940\n",
      "1.4459976109624424\n",
      "37 37 13713 18157\n",
      "36 37 12665 18081\n",
      "37 37 10515 15637\n",
      "37 38 12712 17637\n",
      "37 38 13251 18398\n",
      "72 70 11876 16896\n",
      "35 36 11569 15602\n",
      "35 36 8391 10780\n",
      "36 36 10133 12891\n"
     ]
    }
   ],
   "source": [
    "gt = [37, 37, 37, 38, 38, 70, 36, 36, 36, 38, 37]\n",
    "est = [[], [], [], [], [], [], []]\n",
    "trans = [[], [], [], [], [], [], []]\n",
    "error = []\n",
    "error_daily = [[], [], [], [], [], [], []]\n",
    "\n",
    "for i, (t1, t2) in enumerate(zip(time_1, time_2)):\n",
    "    err = 0\n",
    "    for d, d1 in zip(date, date_1):\n",
    "        N, gt, gt_t, t = get_estimation(d, d1, t1, t2, 'tw', 'zh-tw')\n",
    "        print(N, gt, t, gt_t)\n",
    "        \n",
    "        est[i].append(N)\n",
    "        trans[i].append(t)\n",
    "        \n",
    "        err += (N-gt)**2\n",
    "        error_daily[i].append(N-gt)\n",
    "    err = (err/11)**(1/2)\n",
    "    print(err)\n",
    "    error.append(err)"
   ]
  },
  {
   "cell_type": "code",
   "execution_count": null,
   "metadata": {},
   "outputs": [],
   "source": [
    "# import plotting related libraries\n",
    "import matplotlib.pyplot as plt\n",
    "import numpy as np\n",
    "from matplotlib import colors\n",
    "import matplotlib.patches as mpatches"
   ]
  },
  {
   "cell_type": "code",
   "execution_count": null,
   "metadata": {},
   "outputs": [],
   "source": [
    "gt = [37, 37, 37, 38, 38, 70, 36, 36, 36, 38, 37]\n",
    "fig, ax = plt.subplots(figsize=(20, 10))\n",
    "# x_axis = list(range(len(gt)))\n",
    "x_axis = ['11/1','11/2', '11/3', '11/4', '11/5', '11/6', '11/7', '11/8', '11/9', '11/10', '11/11']\n",
    "labels = ['8', '6', '4', '2', '1', '0.5', '0.25']\n",
    "ax.set_xlabel('Date', fontsize=28)\n",
    "ax.set_ylabel('Number of edge servers', fontsize=28)\n",
    "\n",
    "color_idx = np.linspace(0, 1, 7)\n",
    "plt.plot(x_axis, gt, linewidth=5, color='black', label='Ground Truth', alpha=0.7)\n",
    "for i, (c, e) in enumerate(zip(color_idx, est[::-1])):\n",
    "    plt.plot(x_axis, e, color=plt.cm.summer(c), label=labels[i], alpha=0.7, linewidth=3)\n",
    "\n",
    "#lns = ln1+ln2\n",
    "#labs = [l.get_label() for l in lns]\n",
    "#ax1.legend(lns, labs, loc='center right', fontsize = 12)\n",
    "\n",
    "# plt.title('CMR estimation results', fontsize=30)\n",
    "ax.grid()\n",
    "#leg = ax.legend(prop={'size': 12})\n",
    "#leg.set_title('Sampling Duration', prop={'size': 14, 'weight': 'heavy'})\n",
    "# plt.legend(title='Sampling Duration', fontsize=20)\n",
    "leg = ax.legend(fontsize=20)\n",
    "leg.set_title('Sampling Duration',prop={'size':20})\n",
    "\n",
    "ax.tick_params(axis='both', which='major', labelsize=28)\n",
    "\n",
    "plt.show()\n"
   ]
  },
  {
   "cell_type": "code",
   "execution_count": null,
   "metadata": {
    "scrolled": true
   },
   "outputs": [],
   "source": [
    "fig, ax = plt.subplots(figsize=(40, 20))\n",
    "x_axis = ['0.25', '0.5', '1', '2', '4', '6', '8']\n",
    "\n",
    "ax.set_xlabel('capture duration', fontsize=28)\n",
    "ax.set_ylabel('RMSE', fontsize=28)\n",
    "\n",
    "color_idx = np.linspace(0, 1, 7)\n",
    "plt.plot(x_axis, error, color=plt.cm.summer(1), alpha=0.7)\n",
    "plt.title('RMSE v.s Capture Duration', fontsize=40)\n",
    "\n",
    "plt.show()"
   ]
  },
  {
   "cell_type": "markdown",
   "metadata": {},
   "source": [
    "#### TODO: Plot # of reduction in transactions"
   ]
  },
  {
   "cell_type": "code",
   "execution_count": null,
   "metadata": {},
   "outputs": [],
   "source": [
    "trans_gt = [18157, 18081, 15637, 17637, 18398, 16896, 15602, 10780, 12891, 12968, 10940]\n",
    "fig, ax = plt.subplots(figsize=(40, 20))\n",
    "x_axis = ['11/1','11/2', '11/3', '11/4', '11/5', '11/6', '11/7', '11/8', '11/9', '11/10', '11/11']\n",
    "labels = ['8', '6', '4', '2', '1', '0.5', '0.25']\n",
    "ax.set_xlabel('date', fontsize=28)\n",
    "ax.set_ylabel('# of transactions', fontsize=28)\n",
    "\n",
    "color_idx = np.linspace(0, 1, 7)\n",
    "plt.plot(x_axis, trans_gt, linewidth=5, color='black', label='ground truth', alpha=0.7)\n",
    "for i, (c, e) in enumerate(zip(color_idx, trans[::-1])):\n",
    "    plt.plot(x_axis, e, color=plt.cm.summer(c), label=labels[i], alpha=0.7)\n",
    "    \n",
    "plt.title('Comparison in number of transactions', fontsize=40)\n",
    "plt.legend()\n",
    "plt.show()"
   ]
  },
  {
   "cell_type": "code",
   "execution_count": null,
   "metadata": {},
   "outputs": [],
   "source": [
    "trans_date = list(zip(*trans))\n",
    "per = [[round(t/gt, 3) for t in td] for (gt, td) in zip(trans_gt, trans_date)]\n",
    "per = list(zip(*per)) \n",
    "print(per)"
   ]
  },
  {
   "cell_type": "markdown",
   "metadata": {},
   "source": [
    "#### Box plot of *error rate* and *reduction percentage*"
   ]
  },
  {
   "cell_type": "code",
   "execution_count": null,
   "metadata": {},
   "outputs": [],
   "source": [
    "error_daily = [tuple([abs(e)for e in err]) for err in error_daily]\n",
    "error_daily_per = [[e/gt[i] for i, e in enumerate(err)] for err in error_daily]"
   ]
  },
  {
   "cell_type": "code",
   "execution_count": null,
   "metadata": {},
   "outputs": [],
   "source": [
    "print(per)\n",
    "print(error_daily)\n",
    "print(error_daily_per)"
   ]
  },
  {
   "cell_type": "code",
   "execution_count": null,
   "metadata": {},
   "outputs": [],
   "source": [
    "per_mean = [100*mean(l) for l in per]\n",
    "error_daily_mean = [mean(l) for l in error_daily]\n",
    "error_daily_per_mean = [100*mean(l) for l in error_daily_per]\n",
    "\n",
    "print(per_mean)\n",
    "print(error_daily_mean)\n",
    "print(error_daily_per_mean)"
   ]
  },
  {
   "cell_type": "code",
   "execution_count": null,
   "metadata": {},
   "outputs": [],
   "source": [
    "fig, ax1 = plt.subplots(figsize=(20, 10))\n",
    "labels = ['0.25', '0.5', '1', '2', '4', '6', '8']\n",
    "\n",
    "# mirror axis \n",
    "ax2 = ax1.twinx()\n",
    "\n",
    "ln1 = ax1.plot(labels, per_mean, label='Percentage of Transactions', linestyle=':', linewidth=4, color='orange', marker='o', markersize=15)\n",
    "ln2 = ax2.plot(labels, error_daily_mean, label='Average Error', linestyle='--', linewidth=4, color='green', marker='v', markersize=15)\n",
    "\n",
    "# make labels appear in one legend\n",
    "# https://stackoverflow.com/questions/5484922/secondary-axis-with-twinx-how-to-add-to-legend\n",
    "lns = ln1+ln2\n",
    "labs = [l.get_label() for l in lns]\n",
    "ax1.legend(lns, labs, loc='center right', fontsize = 'xx-large')\n",
    "\n",
    "ax2.set_ylabel('Average Error(# of servers)', fontsize=20)\n",
    "ax1.set_ylabel('Percentage of Transactions(%)', fontsize=20)\n",
    "ax1.set_xlabel('Sampling Duration(hrs)', fontsize=20)\n",
    "# ax1.set_title('Relation between PoT and AE v.s Sampling Duration', fontsize=24)\n",
    "\n",
    "ax1.grid()\n",
    "plt.show()"
   ]
  },
  {
   "cell_type": "code",
   "execution_count": null,
   "metadata": {
    "scrolled": false
   },
   "outputs": [],
   "source": [
    "fig, ax1 = plt.subplots(figsize=(20, 10))\n",
    "labels = ['0.25', '0.5', '1', '2', '4', '6', '8']\n",
    "\n",
    "# mirror axis \n",
    "ax2 = ax1.twinx()\n",
    "\n",
    "ln1 = ax1.plot(labels[::-1], per_mean[::-1], label=r'$R_{o}$', linestyle=':', linewidth=4, color='orange', marker='o', markersize=15)\n",
    "ln2 = ax2.plot(labels[::-1], error_daily_per_mean[::-1], label=r'$R_{e}$', linestyle='--', linewidth=4, color='green', marker='v', markersize=15)\n",
    "\n",
    "# make labels appear in one legend\n",
    "# https://stackoverflow.com/questions/5484922/secondary-axis-with-twinx-how-to-add-to-legend\n",
    "lns = ln1+ln2\n",
    "labs = [l.get_label() for l in lns]\n",
    "ax1.legend(lns, labs, loc='center right', fontsize = 28)\n",
    "\n",
    "ax2.set_ylabel('Error Rate(%)', fontsize=28)\n",
    "ax1.set_ylabel('Transaction Reduction Rate(%)', fontsize=28)\n",
    "ax1.set_xlabel('Sampling Duration(hrs)', fontsize=28)\n",
    "# ax1.set_title(r'Relation between $R_{o}$ and $R_{e}$ v.s Sampling Duration', fontsize=30)\n",
    "\n",
    "ax1.tick_params(axis='both', which='major', labelsize=28)\n",
    "ax2.tick_params(axis='both', which='major', labelsize=28)\n",
    "ax1.grid()\n",
    "plt.show()"
   ]
  },
  {
   "cell_type": "code",
   "execution_count": null,
   "metadata": {},
   "outputs": [],
   "source": [
    "fig, ax1 = plt.subplots(figsize=(20, 10))\n",
    "ax2 = ax1.twinx()\n",
    "\n",
    "ax1.boxplot(per, 0, '')\n",
    "ax2.boxplot(error_daily, 0, '')\n",
    "\n",
    "\n",
    "plt.show()"
   ]
  },
  {
   "cell_type": "code",
   "execution_count": null,
   "metadata": {},
   "outputs": [],
   "source": []
  },
  {
   "cell_type": "code",
   "execution_count": null,
   "metadata": {},
   "outputs": [],
   "source": []
  },
  {
   "cell_type": "code",
   "execution_count": null,
   "metadata": {},
   "outputs": [],
   "source": []
  }
 ],
 "metadata": {
  "kernelspec": {
   "display_name": "Python 3",
   "language": "python",
   "name": "python3"
  },
  "language_info": {
   "codemirror_mode": {
    "name": "ipython",
    "version": 3
   },
   "file_extension": ".py",
   "mimetype": "text/x-python",
   "name": "python",
   "nbconvert_exporter": "python",
   "pygments_lexer": "ipython3",
   "version": "3.6.0"
  }
 },
 "nbformat": 4,
 "nbformat_minor": 2
}
